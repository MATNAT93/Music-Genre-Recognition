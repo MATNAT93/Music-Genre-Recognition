{
  "nbformat": 4,
  "nbformat_minor": 0,
  "metadata": {
    "colab": {
      "name": "Importation des audios.ipynb",
      "provenance": [],
      "collapsed_sections": [],
      "include_colab_link": true
    },
    "kernelspec": {
      "name": "python3",
      "display_name": "Python 3"
    },
    "language_info": {
      "name": "python"
    }
  },
  "cells": [
    {
      "cell_type": "markdown",
      "metadata": {
        "id": "view-in-github",
        "colab_type": "text"
      },
      "source": [
        "<a href=\"https://colab.research.google.com/github/MATNAT93/Music-Genre-Recognition/blob/main/Importation_des_audios.ipynb\" target=\"_parent\"><img src=\"https://colab.research.google.com/assets/colab-badge.svg\" alt=\"Open In Colab\"/></a>"
      ]
    },
    {
      "cell_type": "markdown",
      "source": [
        "IMPORTS"
      ],
      "metadata": {
        "id": "WXgXfzVe7l7W"
      }
    },
    {
      "cell_type": "code",
      "execution_count": null,
      "metadata": {
        "id": "Xsp-ss1w5tYz"
      },
      "outputs": [],
      "source":
        "\n",
        "import librosa # Permet de lire et d'analyser les fichiers wav\n",
        "import librosa.display # Permet de récupérer les spectrogrammes des audio\n",
        "import librosa.feature\n",
        "\n",
        "import os # C'est ce qui va nous permettre d'itérer sur les fichiers de l'environnement de travail\n",
        "\n",
        "\n"
      ]
    },
    {
      "cell_type": "markdown",
      "source": [
        "Création de la base de données"
      ],
      "metadata": {
        "id": "ATQYpIHZ76N3"
      }
    },
    {
      "cell_type": "code",
      "source": [
        "from google.colab import drive\n",
        "drive.mount('/content/drive') # Pour pouvoir importer des fichiers du drive\n",
        "\n",
        "genres = ['blues', 'classical', 'country', 'disco', 'hiphop', \n",
        "          'jazz', 'metal', 'pop', 'reggae', 'rock'] # Liste des genres musicaux qui vont être présents dans le dataset\n",
        "\n",
        "audio_files = {} # Intialisation du dictionnaire contenant les infos des wav\n",
        "\n",
        "for g in genres:\n",
        "  audio_files[g] = []\n",
        "\n",
        "for g in genres:\n",
        "  for audio in os.listdir(f'/content/drive/My Drive/data_python/genres_original/{g}'): \n",
        "    audio_files[g].append(librosa.load(f'/content/drive/My Drive/data_python/genres_original/{g}/{audio}')[0]) # On ne garde que la série temporelle. (librosa.load renvoie un array de dimension 2 donnant une série temporelle propre à l'audio (1er élément) et le sampling rate de la série (22050 par défaut))\n"
      ],
      "metadata": {
        "id": "mSUYGRZM7abZ",
        "colab": {
          "base_uri": "https://localhost:8080/"
        },
        "outputId": "e78bfe95-0221-4122-c823-eaf5163373fa"
      },
      "execution_count": null,
      "outputs": [
        {
          "output_type": "stream",
          "name": "stdout",
          "text": [
            "Drive already mounted at /content/drive; to attempt to forcibly remount, call drive.mount(\"/content/drive\", force_remount=True).\n"
          ]
        }
      ]
    }
  ]
}
