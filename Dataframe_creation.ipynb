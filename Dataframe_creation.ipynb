{
  "nbformat": 4,
  "nbformat_minor": 0,
  "metadata": {
    "colab": {
      "name": "Dataframe_creation.ipynb",
      "provenance": [],
      "authorship_tag": "ABX9TyMkdWpVW4QJ6a2BG6/+CJqz",
      "include_colab_link": true
    },
    "kernelspec": {
      "name": "python3",
      "display_name": "Python 3"
    },
    "language_info": {
      "name": "python"
    }
  },
  "cells": [
    {
      "cell_type": "markdown",
      "metadata": {
        "id": "view-in-github",
        "colab_type": "text"
      },
      "source": [
        "<a href=\"https://colab.research.google.com/github/MATNAT93/Music-Genre-Recognition/blob/main/Dataframe_creation.ipynb\" target=\"_parent\"><img src=\"https://colab.research.google.com/assets/colab-badge.svg\" alt=\"Open In Colab\"/></a>"
      ]
    },
    {
      "cell_type": "code",
      "execution_count": null,
      "metadata": {
        "id": "bGZGGw8QrvTz"
      },
      "outputs": [],
      "source": [
        "import pandas as pd \n",
        "import numpy as np \n",
        
        "import librosa # Permet de lire et d'analyser les fichiers wav\n",
        
        "import librosa.feature\n",
        "\n",
        "import os\n",
        "\n",
        "def signal_analysis(audio):\n",
        "\n",
        "\n",
        "  characteristics = []\n",
        "\n",
        "  # Calcul du ZCR\n",
        "\n",
        "  zcr = librosa.zero_crossings(audio)\n",
        "  characteristics.append(sum(zcr))\n",
        "\n",
        "  # Calcul de la moyenne du Spectral centroid\n",
        "\n",
        "  spectral_centroids = librosa.feature.spectral_centroid(audio)[0]\n",
        "  characteristics.append(np.mean(spectral_centroids))\n",
        "  \n",
        "  # Calcul du spectral rolloff point\n",
        "\n",
        "  rolloff = librosa.feature.spectral_rolloff(audio)\n",
        "  characteristics.append(np.mean(rolloff))\n",
        "\n",
        "  # Calcul des moyennes des MFCC\n",
        "\n",
        "  mfcc = librosa.feature.mfcc(audio)\n",
        "\n",
        "  for x in mfcc:\n",
        "    characteristics.append(np.mean(x))\n",
        "\n",
        "\n",
        "  return characteristics\n",
        "\n",
        "  # Définissons les noms des colonnes\n",
        "\n",
        "column_names = ['zcr', 'spectral_c', 'rolloff', 'mfcc1', 'mfcc2', 'mfcc3',\n",
        "                'mfcc4', 'mfcc5', 'mfcc6', 'mfcc7', 'mfcc8', 'mfcc9',\n",
        "                'mfcc10', 'mfcc11', 'mfcc12', 'mfcc13', 'mfcc14', 'mfcc15',\n",
        "                'mfcc16', 'mfcc17', 'mfcc18', 'mfcc19', 'mfcc20', 'genre']\n",
        "\n",
        "# Création d'un dataframe vide\n",
        "\n",
        "df = pd.DataFrame(columns = column_names)\n",
        "\n",
        "# On itère sur les audios pour remplir le dataframe\n",
        "\n",
        "i = 0\n",
        "for g in genres:\n",
        "  for music in audio_files[g]:\n",
        "    df.loc[i] = signal_analysis(music)+[g]\n",
        "    i+=1"
      ]
    }
  ]
}
