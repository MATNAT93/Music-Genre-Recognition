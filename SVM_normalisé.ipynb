{
  "nbformat": 4,
  "nbformat_minor": 0,
  "metadata": {
    "colab": {
      "name": "SVM normalisé.ipynb",
      "provenance": [],
      "collapsed_sections": [],
      "include_colab_link": true
    },
    "kernelspec": {
      "name": "python3",
      "display_name": "Python 3"
    },
    "language_info": {
      "name": "python"
    }
  },
  "cells": [
    {
      "cell_type": "markdown",
      "metadata": {
        "id": "view-in-github",
        "colab_type": "text"
      },
      "source": [
        "<a href=\"https://colab.research.google.com/github/MATNAT93/Music-Genre-Recognition/blob/main/SVM_normalis%C3%A9.ipynb\" target=\"_parent\"><img src=\"https://colab.research.google.com/assets/colab-badge.svg\" alt=\"Open In Colab\"/></a>"
      ]
    },
    {
      "cell_type": "code",
      "execution_count": 10,
      "metadata": {
        "id": "ZWZc5QtiGKhR",
        "outputId": "e3cc5051-08a9-43fd-e5dd-8fc78cd98cf5",
        "colab": {
          "base_uri": "https://localhost:8080/"
        }
      },
      "outputs": [
        {
          "output_type": "stream",
          "name": "stdout",
          "text": [
            "Mounted at /content/drive\n",
            "          zcr  spectral_c   rolloff  ...    mfcc19    mfcc20  genre\n",
            "0    0.996733    0.035524  0.072308  ... -0.000115 -0.000211  blues\n",
            "1    0.994604    0.040978  0.095082  ... -0.000008  0.000014  blues\n",
            "2    0.997720    0.030640  0.060029  ... -0.000068 -0.000044  blues\n",
            "3    0.993920    0.048175  0.098354  ... -0.000028 -0.000153  blues\n",
            "4    0.997091    0.032326  0.068956  ... -0.000042  0.000022  blues\n",
            "..        ...         ...       ...  ...       ...       ...    ...\n",
            "985  0.994710    0.043084  0.092889  ... -0.000155 -0.000111   rock\n",
            "986  0.998268    0.027005  0.052244  ... -0.000066  0.000023   rock\n",
            "987  0.997396    0.031133  0.065033  ... -0.000027  0.000007   rock\n",
            "988  0.997904    0.029714  0.057422  ... -0.000164 -0.000008   rock\n",
            "989  0.997428    0.031748  0.064035  ... -0.000040  0.000023   rock\n",
            "\n",
            "[990 rows x 24 columns]\n"
          ]
        }
      ],
      "source": [
        "import pandas as pd\n",
        "\n",
        "from sklearn.preprocessing import normalize\n",
        "from sklearn.preprocessing import MinMaxScaler\n",
        "from sklearn import svm\n",
        "import sklearn.metrics\n",
        "from sklearn.model_selection import train_test_split\n",
        "from sklearn.metrics import classification_report\n",
        "\n",
        "from google.colab import drive\n",
        "drive.mount('/content/drive', force_remount=True)\n",
        "\n",
        "df = pd.read_csv('/content/drive/My Drive/data_python/données.csv')\n",
        "column_names = ['genre','zcr', 'spectral_c', 'rolloff', 'mfcc1', 'mfcc2', 'mfcc3',\n",
        "                'mfcc4', 'mfcc5', 'mfcc6', 'mfcc7', 'mfcc8', 'mfcc9',\n",
        "                'mfcc10', 'mfcc11', 'mfcc12', 'mfcc13', 'mfcc14', 'mfcc15',\n",
        "                'mfcc16', 'mfcc17', 'mfcc18', 'mfcc19', 'mfcc20']\n",
        "\n",
        "d=normalize(df.loc[:,df.columns != 'genre'])\n",
        "dfn=pd.DataFrame(d,columns=column_names[1:])\n",
        "dfn['genre']=df['genre']\n",
        "\n",
        "\n",
        "# On split le dataset pour pouvoir entrainer le modèle par la suite\n",
        "X_train, X_test, y_train, y_test = train_test_split(dfn[['zcr', 'spectral_c', 'rolloff', 'mfcc1', 'mfcc2', 'mfcc3',\n",
        "                                                       'mfcc4', 'mfcc5', 'mfcc6', 'mfcc7', 'mfcc8', 'mfcc9',\n",
        "                                                        'mfcc10', 'mfcc11', 'mfcc12', 'mfcc13', 'mfcc14', 'mfcc15', \n",
        "                                                        'mfcc16', 'mfcc17', 'mfcc18', 'mfcc19', 'mfcc20']],dfn['genre'],test_size=0.2)\n",
        "\n",
        "# Fit du  Training set\n",
        "classifier = svm.SVC(kernel = 'linear', random_state = 0)\n",
        "classifier.fit(X_train, y_train)\n",
        "\n",
        "#Prediction sur le Test set\n",
        "y_pred = classifier.predict(X_test)\n",
        "\n",
        "#Classification report\n",
        "print(classification_report(y_test, y_pred))\n",
        "\n",
        "#Matrice de confusion\n",
        "sklearn.metrics.plot_confusion_matrix(classifier, X_test, y_test)\n"
      ]
    }
  ]
}