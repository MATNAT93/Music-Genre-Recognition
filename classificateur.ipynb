{
  "nbformat": 4,
  "nbformat_minor": 0,
  "metadata": {
    "colab": {
      "name": "classificateur.ipynb",
      "provenance": [],
      "collapsed_sections": [],
      "include_colab_link": true
    },
    "kernelspec": {
      "name": "python3",
      "display_name": "Python 3"
    },
    "language_info": {
      "name": "python"
    }
  },
  "cells": [
    {
      "cell_type": "markdown",
      "metadata": {
        "id": "view-in-github",
        "colab_type": "text"
      },
      "source": [
        "<a href=\"https://colab.research.google.com/github/MATNAT93/Music-Genre-Recognition/blob/main/classificateur.ipynb\" target=\"_parent\"><img src=\"https://colab.research.google.com/assets/colab-badge.svg\" alt=\"Open In Colab\"/></a>"
      ]
    },
    {
      "cell_type": "code",
      "execution_count": 14,
      "metadata": {
        "colab": {
          "base_uri": "https://localhost:8080/"
        },
        "id": "0kxhDfnSMSli",
        "outputId": "0576bfd2-747d-4284-d9c0-37863a9294a8"
      },
      "outputs": [
        {
          "output_type": "stream",
          "name": "stdout",
          "text": [
            "Mounted at /content/drive\n",
            "Entrez le path de votre audio : /content/drive/My Drive/data_python/coldrain - Die tomorrow.wav\n",
            "['disco']\n"
          ]
        }
      ],
      "source": [
        "import librosa\n",
        "import numpy as np\n",
        "import pandas as pd \n",
        "import sklearn\n",
        "from sklearn.ensemble import RandomForestClassifier\n",
        "from sklearn.model_selection import train_test_split\n",
        "\n",
        "from sklearn.metrics import classification_report\n",
        "\n",
        "from google.colab import drive\n",
        "drive.mount('/content/drive', force_remount=True)\n",
        "\n",
        "df = pd.read_csv('/content/drive/My Drive/data_python/données.csv')\n",
        "\n",
        "# On split le dataset pour pouvoir entrainer le modèle par la suite\n",
        "X_train, X_test, y_train, y_test = train_test_split(df[['zcr', 'spectral_c', 'rolloff', 'mfcc1', 'mfcc2', 'mfcc3',\n",
        "                                                        'mfcc4', 'mfcc5', 'mfcc6', 'mfcc7', 'mfcc8', 'mfcc9',\n",
        "                                                        'mfcc10', 'mfcc11', 'mfcc12', 'mfcc13', 'mfcc14', 'mfcc15', \n",
        "                                                        'mfcc16', 'mfcc17', 'mfcc18', 'mfcc19', 'mfcc20']],df['genre'], test_size=0.2, random_state=0)\n",
        "#Fit du training set\n",
        "rf = RandomForestClassifier(n_estimators=2000,max_depth=20, random_state=0)\n",
        "rf.fit(X_train, y_train)\n",
        "\n",
        "# Prediction sur le Test set\n",
        "y_pred = rf.predict(X_test)\n",
        "\n",
        "#Vérification de la qualité du modèle\n",
        "#print(classification_report(y_test, y_pred))\n",
        "\n",
        "#sklearn.metrics.plot_confusion_matrix(rf, X_test, y_test) # Matrice de confusion\n",
        "\n",
        "def signal_analysis(audio):\n",
        "\n",
        "\n",
        "  characteristics = []\n",
        "\n",
        "  # Calcul du ZCR\n",
        "\n",
        "  zcr = librosa.zero_crossings(audio)\n",
        "  characteristics.append(sum(zcr))\n",
        "\n",
        "  # Calcul de la moyenne du Spectral centroid\n",
        "\n",
        "  spectral_centroids = librosa.feature.spectral_centroid(audio)[0]\n",
        "  characteristics.append(np.mean(spectral_centroids))\n",
        "  \n",
        "  # Calcul du spectral rolloff point\n",
        "\n",
        "  rolloff = librosa.feature.spectral_rolloff(audio)\n",
        "  characteristics.append(np.mean(rolloff))\n",
        "\n",
        "  # Calcul des moyennes des MFCC\n",
        "\n",
        "  mfcc = librosa.feature.mfcc(audio)\n",
        "\n",
        "  for x in mfcc:\n",
        "    characteristics.append(np.mean(x))\n",
        "\n",
        "\n",
        "  return characteristics\n",
        "\n",
        "\n",
        "\n",
        "\n",
        "\n",
        "#Fonction qui permet à l'utilisateur de renseigner le path d'un audio pour en prédire le genre\n",
        "def classificateur (audio_path) :\n",
        "  audio = librosa.load(f'{audio_path}')[0]\n",
        "  colonnes_prédit = ['zcr', 'spectral_c', 'rolloff', 'mfcc1', 'mfcc2', 'mfcc3',\n",
        "                'mfcc4', 'mfcc5', 'mfcc6', 'mfcc7', 'mfcc8', 'mfcc9',\n",
        "                'mfcc10', 'mfcc11', 'mfcc12', 'mfcc13', 'mfcc14', 'mfcc15',\n",
        "                'mfcc16', 'mfcc17', 'mfcc18', 'mfcc19', 'mfcc20']\n",
        "  dfprédit = pd.DataFrame(columns = colonnes_prédit)\n",
        "  dfprédit.loc[0]=signal_analysis(audio)\n",
        "  genre_prédit = rf.predict(dfprédit)\n",
        "  return genre_prédit\n",
        "\n",
        "audio_path = input('Entrez le path de votre audio : ')\n",
        "print(classificateur(audio_path))\n",
        "\n",
        "#path example : /content/drive/My Drive/data_python/genres_original/classical/classical.00000.wav\n",
        "\n"
      ]
    }
  ]
}