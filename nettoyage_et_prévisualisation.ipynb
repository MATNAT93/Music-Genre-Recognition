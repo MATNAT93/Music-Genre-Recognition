{
  "nbformat": 4,
  "nbformat_minor": 0,
  "metadata": {
    "colab": {
      "name": "nettoyage et prévisualisation.ipynb",
      "provenance": [],
      "collapsed_sections": [],
      "include_colab_link": true
    },
    "kernelspec": {
      "name": "python3",
      "display_name": "Python 3"
    },
    "language_info": {
      "name": "python"
    }
  },
  "cells": [
    {
      "cell_type": "markdown",
      "metadata": {
        "id": "view-in-github",
        "colab_type": "text"
      },
      "source": [
        "<a href=\"https://colab.research.google.com/github/MATNAT93/Music-Genre-Recognition/blob/main/nettoyage_et_pr%C3%A9visualisation.ipynb\" target=\"_parent\"><img src=\"https://colab.research.google.com/assets/colab-badge.svg\" alt=\"Open In Colab\"/></a>"
      ]
    },
    {
      "cell_type": "code",
      "execution_count": 25,
      "metadata": {
        "id": "8hh5YcVimxzG",
        "colab": {
          "base_uri": "https://localhost:8080/"
        },
        "outputId": "79eab6b6-a14f-48ad-c18f-e09836fd4511"
      },
      "outputs": [
        {
          "output_type": "stream",
          "name": "stdout",
          "text": [
            "Drive already mounted at /content/drive; to attempt to forcibly remount, call drive.mount(\"/content/drive\", force_remount=True).\n"
          ]
        },
        {
          "output_type": "execute_result",
          "data": {
            "text/plain": [
              "genre\n",
              "blues        23397.346901\n",
              "classical    17164.459298\n",
              "country      20093.203480\n",
              "disco        20237.332138\n",
              "hiphop       21474.462667\n",
              "jazz         24518.400992\n",
              "metal        22625.887836\n",
              "pop          24544.876509\n",
              "reggae       26721.271469\n",
              "rock         23275.636636\n",
              "Name: zcr, dtype: float64"
            ]
          },
          "metadata": {},
          "execution_count": 25
        }
      ],
      "source": [
        "import pandas as pd\n",
        "import matplotlib.pyplot as plt\n",
        "from google.colab import drive\n",
        "drive.mount('/content/drive')\n",
        "\n",
        "df = pd.read_csv('/content/drive/My Drive/data_python/données.csv')\n",
        "\n",
        "df.isnull().sum()/len(df)*100 # On cherche le pourcentage de valeurs nulles pour chaque variable\n",
        "df.describe()\n",
        "df.groupby(['genre']).mean().zcr\n",
        "df.groupby(['genre']).std().zcr\n",
        "\n",
        "\n",
        "\n",
        "\n",
        "\n",
        "\n",
        "\n",
        "\n",
        "\n",
        "\n",
        "\n"
      ]
    }
  ]
}